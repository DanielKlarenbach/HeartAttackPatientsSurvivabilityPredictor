{
 "cells": [
  {
   "cell_type": "code",
   "execution_count": null,
   "metadata": {},
   "outputs": [],
   "source": [
    "# fecthing and saving data\n",
    "\n",
    "import os\n",
    "import urllib.request\n",
    "\n",
    "DOWNLOAD_ROOT = \"https://archive.ics.uci.edu/ml/\"\n",
    "ECHOCARDIOGRAM_URL = DOWNLOAD_ROOT + \"machine-learning-databases/echocardiogram/echocardiogram.data\"\n",
    "cwd = os.getcwd()\n",
    "ECHOCARDIOGRAM_PATH = os.path.join(cwd,\"datasets\",\"echocardiogram\")\n",
    "\n",
    "def fetch_echocardiogram_data(echocardiogram_url=ECHOCARDIOGRAM_URL, echocardiogram_path=ECHOCARDIOGRAM_PATH):\n",
    "    echocardiogram_data_path=os.path.join(echocardiogram_path,\"echocardiogram.data\")\n",
    "    os.makedirs(echocardiogram_path, exist_ok=True)\n",
    "    urllib.request.urlretrieve(echocardiogram_url,echocardiogram_data_path)\n",
    "\n",
    "fetch_echocardiogram_data()"
   ]
  },
  {
   "cell_type": "code",
   "execution_count": null,
   "metadata": {},
   "outputs": [],
   "source": [
    "# loading data\n",
    "\n",
    "import pandas as pd \n",
    "\n",
    "pd.set_option(\"display.max_rows\", None)\n",
    "\n",
    "def load_echocardiogram_data(echocardiogram_path=ECHOCARDIOGRAM_PATH):\n",
    "        echocardiogram_data_path=os.path.join(echocardiogram_path,\"echocardiogram.data\")\n",
    "        return pd.read_csv(echocardiogram_data_path,names=[\"survival\",\"still-alive\",\"age-at-heart-attack\",\"pericardial-effusion\",\"fractional-shortening\",\"epss\",\"lvdd\",\"wall-motion-score\",\"wall-motion-index\",\"mult\",\"name\",\"group\",\"alive-at-1\"], header=None)\n",
    "    \n",
    "echocardiogram_data=load_echocardiogram_data()"
   ]
  },
  {
   "cell_type": "code",
   "execution_count": null,
   "metadata": {
    "scrolled": false
   },
   "outputs": [],
   "source": [
    "# prepare data\n",
    "\n",
    "from sklearn.model_selection import train_test_split\n",
    "from sklearn.impute import SimpleImputer\n",
    "from sklearn.compose import ColumnTransformer\n",
    "from sklearn.pipeline import Pipeline\n",
    "from sklearn.preprocessing import StandardScaler\n",
    "\n",
    "# replace '?' with None to indicate missing values\n",
    "\n",
    "echocardiogram_data.replace({'?': None},inplace =True)\n",
    "\n",
    "# drop instances with missing survival and still-alive attributes\n",
    "\n",
    "echocardiogram_data.dropna(subset=[\"survival\",\"still-alive\"],inplace=True)\n",
    "\n",
    "# drop instances with survival less than 12 months and still-alive equal to 1\n",
    "\n",
    "echocardiogram_data[\"survival\"]= pd.to_numeric(echocardiogram_data[\"survival\"])\n",
    "echocardiogram_data[\"still-alive\"]= pd.to_numeric(echocardiogram_data[\"still-alive\"])\n",
    "echocardiogram_data=echocardiogram_data[~((echocardiogram_data[\"survival\"]<12) & (echocardiogram_data[\"still-alive\"]==1))]\n",
    "\n",
    "# replacing missing values in alive-at-1 column\n",
    "\n",
    "echocardiogram_data[\"alive-at-1\"]=echocardiogram_data[\"still-alive\"]\n",
    "\n",
    "# split into X and y, drop irrelevant features: mult, name, group\n",
    "\n",
    "echocardiogram_features=[\"age-at-heart-attack\",\"pericardial-effusion\",\"fractional-shortening\",\"epss\",\"lvdd\",\"wall-motion-score\",\"wall-motion-index\"]\n",
    "X=echocardiogram_data[echocardiogram_features]\n",
    "y=echocardiogram_data[\"alive-at-1\"]\n",
    "\n",
    "# split data into train and test sets\n",
    "\n",
    "train_X, test_X, train_y, test_y = train_test_split(X, y, test_size=0.2, random_state=42)"
   ]
  },
  {
   "cell_type": "code",
   "execution_count": null,
   "metadata": {},
   "outputs": [],
   "source": [
    "# preprocessing numerical data\n",
    "\n",
    "numerical_transformer = Pipeline([\n",
    "    ('imputer', SimpleImputer(strategy=\"median\")),\n",
    "    ('scaler',StandardScaler())\n",
    "])\n",
    "\n",
    "preprocessor = ColumnTransformer(\n",
    "    transformers=[\n",
    "        ('num', numerical_transformer, echocardiogram_features),\n",
    "    ])\n",
    "\n",
    "train_X_prepared = preprocessor.fit_transform(train_X)"
   ]
  },
  {
   "cell_type": "code",
   "execution_count": null,
   "metadata": {},
   "outputs": [],
   "source": [
    "# grid search\n",
    "\n",
    "from sklearn.model_selection import GridSearchCV\n",
    "from sklearn.svm import SVC\n",
    "\n",
    "param_grid = [\n",
    "    {\"kernel\": [\"linear\", \"poly\", \"rbf\", \"sigmoid\"], \"C\": [2, 4, 6, 8,50,100]},\n",
    "]\n",
    "\n",
    "svc_classifier = SVC()\n",
    "\n",
    "grid_search = GridSearchCV(svc_classifier, param_grid, cv=5, scoring='roc_auc')\n",
    "\n",
    "grid_search.fit(train_X_prepared, train_y)"
   ]
  },
  {
   "cell_type": "code",
   "execution_count": null,
   "metadata": {},
   "outputs": [],
   "source": [
    "# ROC AUC for test set\n",
    "\n",
    "from matplotlib import pyplot as plt\n",
    "from sklearn.model_selection import cross_val_predict\n",
    "from sklearn.metrics import roc_curve, roc_auc_score\n",
    "\n",
    "model = grid_search.best_estimator_\n",
    "\n",
    "test_X_prepared = preprocessor.transform(test_X)\n",
    "\n",
    "test_y_scores = model.decision_function(test_X_prepared)\n",
    "\n",
    "fpr, tpr, thresholds = roc_curve(test_y, test_y_scores)\n",
    "\n",
    "plt.plot(fpr, tpr, linewidth=2)\n",
    "plt.show()\n",
    "\n",
    "roc_auc_score(test_y, test_y_scores)"
   ]
  },
  {
   "cell_type": "code",
   "execution_count": null,
   "metadata": {},
   "outputs": [],
   "source": [
    "# confusion matrix\n",
    "\n",
    "from sklearn.metrics import confusion_matrix\n",
    "\n",
    "test_y_predictions = model.predict(test_X_prepared)\n",
    "conf_matrix=confusion_matrix(test_y, test_y_predictions)\n",
    "conf_matrix"
   ]
  }
 ],
 "metadata": {
  "kernelspec": {
   "display_name": "Python 3",
   "language": "python",
   "name": "python3"
  },
  "language_info": {
   "codemirror_mode": {
    "name": "ipython",
    "version": 3
   },
   "file_extension": ".py",
   "mimetype": "text/x-python",
   "name": "python",
   "nbconvert_exporter": "python",
   "pygments_lexer": "ipython3",
   "version": "3.8.3"
  }
 },
 "nbformat": 4,
 "nbformat_minor": 4
}
