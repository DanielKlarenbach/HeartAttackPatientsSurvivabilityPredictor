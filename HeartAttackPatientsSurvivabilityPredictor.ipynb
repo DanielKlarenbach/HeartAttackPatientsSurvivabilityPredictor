{
 "cells": [
  {
   "cell_type": "code",
   "execution_count": 1,
   "metadata": {},
   "outputs": [],
   "source": [
    "# fecthing and saving data\n",
    "\n",
    "import os\n",
    "import urllib.request\n",
    "\n",
    "DOWNLOAD_ROOT = \"https://archive.ics.uci.edu/ml/\"\n",
    "ECHOCARDIOGRAM_URL = DOWNLOAD_ROOT + \"machine-learning-databases/echocardiogram/echocardiogram.data\"\n",
    "cwd = os.getcwd()\n",
    "ECHOCARDIOGRAM_PATH = os.path.join(cwd,\"datasets\",\"echocardiogram\")\n",
    "\n",
    "def fetch_echocardiogram_data(echocardiogram_url=ECHOCARDIOGRAM_URL, echocardiogram_path=ECHOCARDIOGRAM_PATH):\n",
    "    echocardiogram_data_path=os.path.join(echocardiogram_path,\"echocardiogram.data\")\n",
    "    os.makedirs(echocardiogram_path, exist_ok=True)\n",
    "    urllib.request.urlretrieve(echocardiogram_url,echocardiogram_data_path)\n",
    "\n",
    "fetch_echocardiogram_data()"
   ]
  },
  {
   "cell_type": "code",
   "execution_count": 2,
   "metadata": {},
   "outputs": [],
   "source": [
    "# loading data\n",
    "\n",
    "import pandas as pd \n",
    "\n",
    "pd.set_option(\"display.max_rows\", None)\n",
    "\n",
    "def load_echocardiogram_data(echocardiogram_path=ECHOCARDIOGRAM_PATH):\n",
    "        echocardiogram_data_path=os.path.join(echocardiogram_path,\"echocardiogram.data\")\n",
    "        return pd.read_csv(echocardiogram_data_path,names=[\"survival\",\"still-alive\",\"age-at-heart-attack\",\"pericardial-effusion\",\"fractional-shortening\",\"epss\",\"lvdd\",\"wall-motion-score\",\"wall-motion-index\",\"mult\",\"name\",\"group\",\"alive-at-1\"], header=None)\n",
    "    \n",
    "echocardiogram_data=load_echocardiogram_data()"
   ]
  },
  {
   "cell_type": "code",
   "execution_count": 3,
   "metadata": {
    "scrolled": false
   },
   "outputs": [],
   "source": [
    "# prepare data\n",
    "\n",
    "# replace '?' with None to indicate missing values\n",
    "\n",
    "echocardiogram_data.replace({'?': None},inplace =True)\n",
    "\n",
    "# drop instances with missing survival and still-alive attributes\n",
    "\n",
    "echocardiogram_data.dropna(subset=[\"survival\",\"still-alive\"],inplace=True)\n",
    "\n",
    "# drop instances with survival less than 12 months and still-alive equal to 1\n",
    "\n",
    "echocardiogram_data[\"survival\"]= pd.to_numeric(echocardiogram_data[\"survival\"])\n",
    "echocardiogram_data[\"still-alive\"]= pd.to_numeric(echocardiogram_data[\"still-alive\"])\n",
    "echocardiogram_data=echocardiogram_data[~((echocardiogram_data[\"survival\"]<12) & (echocardiogram_data[\"still-alive\"]==1))]\n",
    "\n",
    "# replacing missing values in alive-at-1 column\n",
    "\n",
    "def compute_still_alive_at_1(survival,still_alive):\n",
    "    if survival > 12.0 or (survival == 12.0 and still_alive==1):\n",
    "        return 1\n",
    "    else:\n",
    "        return 0\n",
    "\n",
    "echocardiogram_data[\"alive-at-1\"] = echocardiogram_data.apply(lambda df: compute_still_alive_at_1(df[\"survival\"], df[\"still-alive\"]), axis=1)\n",
    "\n",
    "#echocardiogram_data"
   ]
  },
  {
   "cell_type": "code",
   "execution_count": 4,
   "metadata": {},
   "outputs": [
    {
     "name": "stdout",
     "output_type": "stream",
     "text": [
      "Distribution of classes in dataset:\n"
     ]
    },
    {
     "data": {
      "text/plain": [
       "1    88\n",
       "0     8\n",
       "Name: alive-at-1, dtype: int64"
      ]
     },
     "execution_count": 4,
     "metadata": {},
     "output_type": "execute_result"
    },
    {
     "data": {
      "image/png": "[encoded data removed]",
      "text/plain": [
       "<Figure size 432x288 with 1 Axes>"
      ]
     },
     "metadata": {
      "needs_background": "light"
     },
     "output_type": "display_data"
    }
   ],
   "source": [
    "# histogram for label column shows that dataset is very imbalanced\n",
    "\n",
    "echocardiogram_data[\"alive-at-1\"].hist()\n",
    "print(\"Distribution of classes in dataset:\")\n",
    "echocardiogram_data[\"alive-at-1\"].value_counts()"
   ]
  },
  {
   "cell_type": "code",
   "execution_count": 5,
   "metadata": {},
   "outputs": [
    {
     "name": "stdout",
     "output_type": "stream",
     "text": [
      "Distribution of classes in training dataset:\n",
      "1    70\n",
      "0     6\n",
      "Name: alive-at-1, dtype: int64\n",
      "\n",
      "Distribution of classes in test dataset:\n",
      "1    18\n",
      "0     2\n",
      "Name: alive-at-1, dtype: int64\n"
     ]
    }
   ],
   "source": [
    "# spliting data into train and test sets\n",
    "\n",
    "from sklearn.model_selection import train_test_split\n",
    "\n",
    "# split into X and y, drop irrelevant features: mult, name, group\n",
    "\n",
    "echocardiogram_features=[\"age-at-heart-attack\",\"pericardial-effusion\",\"fractional-shortening\",\"epss\",\"lvdd\",\"wall-motion-score\",\"wall-motion-index\"]\n",
    "X=echocardiogram_data[echocardiogram_features]\n",
    "y=echocardiogram_data[\"alive-at-1\"]\n",
    "\n",
    "# split data into train and test sets, using stratify because dataset is imbalanced\n",
    "\n",
    "train_X, test_X, train_y, test_y = train_test_split(X, y, test_size=0.2, random_state=42, stratify=y)\n",
    "\n",
    "print(\"Distribution of classes in training dataset:\")\n",
    "print(train_y.value_counts())\n",
    "print()\n",
    "print(\"Distribution of classes in test dataset:\")\n",
    "print(test_y.value_counts())"
   ]
  },
  {
   "cell_type": "code",
   "execution_count": 6,
   "metadata": {},
   "outputs": [],
   "source": [
    "# preprocessing numerical data\n",
    "\n",
    "from sklearn.impute import SimpleImputer\n",
    "from sklearn.pipeline import Pipeline\n",
    "from sklearn.preprocessing import StandardScaler, MinMaxScaler\n",
    "from sklearn.compose import ColumnTransformer\n",
    "from sklearn.svm import SVC\n",
    "\n",
    "def get_clf(scaler):\n",
    "    if scaler is None:\n",
    "        numerical_transformer = Pipeline([\n",
    "        ('imputer', SimpleImputer(strategy=\"median\")),\n",
    "    ])\n",
    "    else:\n",
    "        numerical_transformer = Pipeline([\n",
    "            ('imputer', SimpleImputer(strategy=\"median\")),\n",
    "            ('scaler',scaler)\n",
    "        ])\n",
    "\n",
    "    preprocessor = ColumnTransformer(\n",
    "        transformers=[\n",
    "            ('num', numerical_transformer, echocardiogram_features),\n",
    "        ])\n",
    "\n",
    "    clf = Pipeline(steps=[('preprocessor', preprocessor),\n",
    "                          ('classifier', SVC())])\n",
    "    \n",
    "    return clf"
   ]
  },
  {
   "cell_type": "code",
   "execution_count": 7,
   "metadata": {},
   "outputs": [],
   "source": [
    "# ROC AUC for test set\n",
    "\n",
    "from matplotlib import pyplot as plt\n",
    "from sklearn.model_selection import cross_val_predict\n",
    "from sklearn.metrics import roc_curve, roc_auc_score\n",
    "\n",
    "def compute_roc_auc(model,test_X, test_y):\n",
    "    test_y_scores = model.decision_function(test_X)\n",
    "\n",
    "    fpr, tpr, thresholds = roc_curve(test_y, test_y_scores)\n",
    "\n",
    "    print(\"ROC curve:\")\n",
    "    plt.plot(fpr, tpr, linewidth=2)\n",
    "    plt.show()\n",
    "\n",
    "    print(\"ROC AUC score: \", roc_auc_score(test_y, test_y_scores))"
   ]
  },
  {
   "cell_type": "code",
   "execution_count": 8,
   "metadata": {},
   "outputs": [],
   "source": [
    "# confusion matrix\n",
    "\n",
    "from sklearn.metrics import plot_confusion_matrix\n",
    "\n",
    "def plt_confusion_matrix(model,test_X, test_y):\n",
    "    print(\"Confusion matrix:\")\n",
    "    plot_confusion_matrix(model,test_X, test_y)  \n",
    "    plt.show()"
   ]
  },
  {
   "cell_type": "code",
   "execution_count": 9,
   "metadata": {},
   "outputs": [
    {
     "name": "stdout",
     "output_type": "stream",
     "text": [
      "Scaler:  None\n",
      "Model:\n",
      "poly\n",
      "ROC curve:\n"
     ]
    },
    {
     "data": {
      "image/png": "[encoded data removed]",
      "text/plain": [
       "<Figure size 432x288 with 1 Axes>"
      ]
     },
     "metadata": {
      "needs_background": "light"
     },
     "output_type": "display_data"
    },
    {
     "name": "stdout",
     "output_type": "stream",
     "text": [
      "ROC AUC score:  0.9722222222222222\n",
      "Confusion matrix:\n"
     ]
    },
    {
     "data": {
      "image/png": "[encoded data removed]",
      "text/plain": [
       "<Figure size 432x288 with 2 Axes>"
      ]
     },
     "metadata": {
      "needs_background": "light"
     },
     "output_type": "display_data"
    },
    {
     "name": "stdout",
     "output_type": "stream",
     "text": [
      "Scaler:  MinMaxScaler()\n",
      "Model:\n",
      "sigmoid\n",
      "ROC curve:\n"
     ]
    },
    {
     "data": {
      "image/png": "[encoded data removed]",
      "text/plain": [
       "<Figure size 432x288 with 1 Axes>"
      ]
     },
     "metadata": {
      "needs_background": "light"
     },
     "output_type": "display_data"
    },
    {
     "name": "stdout",
     "output_type": "stream",
     "text": [
      "ROC AUC score:  0.8333333333333333\n",
      "Confusion matrix:\n"
     ]
    },
    {
     "data": {
      "image/png": "[encoded data removed]",
      "text/plain": [
       "<Figure size 432x288 with 2 Axes>"
      ]
     },
     "metadata": {
      "needs_background": "light"
     },
     "output_type": "display_data"
    },
    {
     "name": "stdout",
     "output_type": "stream",
     "text": [
      "Scaler:  StandardScaler()\n",
      "Model:\n",
      "rbf\n",
      "ROC curve:\n"
     ]
    },
    {
     "data": {
      "image/png": "[encoded data removed]",
      "text/plain": [
       "<Figure size 432x288 with 1 Axes>"
      ]
     },
     "metadata": {
      "needs_background": "light"
     },
     "output_type": "display_data"
    },
    {
     "name": "stdout",
     "output_type": "stream",
     "text": [
      "ROC AUC score:  0.9444444444444444\n",
      "Confusion matrix:\n"
     ]
    },
    {
     "data": {
      "image/png": "[encoded data removed]",
      "text/plain": [
       "<Figure size 432x288 with 2 Axes>"
      ]
     },
     "metadata": {
      "needs_background": "light"
     },
     "output_type": "display_data"
    },
    {
     "name": "stdout",
     "output_type": "stream",
     "text": [
      "Scaler:  PCA(n_components=6)\n",
      "Model:\n",
      "rbf\n",
      "ROC curve:\n"
     ]
    },
    {
     "data": {
      "image/png": "[encoded data removed]",
      "text/plain": [
       "<Figure size 432x288 with 1 Axes>"
      ]
     },
     "metadata": {
      "needs_background": "light"
     },
     "output_type": "display_data"
    },
    {
     "name": "stdout",
     "output_type": "stream",
     "text": [
      "ROC AUC score:  0.6388888888888888\n",
      "Confusion matrix:\n"
     ]
    },
    {
     "data": {
      "image/png": "[encoded data removed]",
      "text/plain": [
       "<Figure size 432x288 with 2 Axes>"
      ]
     },
     "metadata": {
      "needs_background": "light"
     },
     "output_type": "display_data"
    },
    {
     "name": "stdout",
     "output_type": "stream",
     "text": [
      "Scaler:  PCA(n_components=2)\n",
      "Model:\n",
      "rbf\n",
      "ROC curve:\n"
     ]
    },
    {
     "data": {
      "image/png": "[encoded data removed]",
      "text/plain": [
       "<Figure size 432x288 with 1 Axes>"
      ]
     },
     "metadata": {
      "needs_background": "light"
     },
     "output_type": "display_data"
    },
    {
     "name": "stdout",
     "output_type": "stream",
     "text": [
      "ROC AUC score:  0.6111111111111112\n",
      "Confusion matrix:\n"
     ]
    },
    {
     "data": {
      "image/png": "[encoded data removed]",
      "text/plain": [
       "<Figure size 432x288 with 2 Axes>"
      ]
     },
     "metadata": {
      "needs_background": "light"
     },
     "output_type": "display_data"
    }
   ],
   "source": [
    "# grid search\n",
    "\n",
    "from sklearn.model_selection import GridSearchCV, StratifiedKFold\n",
    "from sklearn.decomposition import PCA\n",
    "\n",
    "scalers_to_test = [None, MinMaxScaler(),StandardScaler(),PCA(n_components=6),PCA(n_components=2)]\n",
    "\n",
    "for scaler in scalers_to_test:\n",
    "    print('Scaler: ', str(scaler))\n",
    "    \n",
    "    param_grid = [{\"classifier__kernel\": [\"linear\", \"poly\", \"rbf\", \"sigmoid\"], \n",
    "         'classifier__C': [0.1,1, 10, 100, 1000], 'classifier__gamma': [0.1, 0.01, 0.001, 0.0001],\n",
    "         \"classifier__class_weight\": [\"balanced\"],\n",
    "        }]\n",
    "    \n",
    "    clf=get_clf(scaler)\n",
    "    grid_search = GridSearchCV(clf, param_grid, cv=StratifiedKFold(n_splits=5), scoring='roc_auc')\n",
    "\n",
    "    grid_search.fit(train_X, train_y)\n",
    "    \n",
    "    model = grid_search.best_estimator_\n",
    "    \n",
    "    print('Model:')\n",
    "    print(model['classifier'])\n",
    "    \n",
    "    compute_roc_auc(model,test_X,test_y)\n",
    "    \n",
    "    plt_confusion_matrix(model,test_X,test_y)\n",
    "    "
   ]
  }
 ],
 "metadata": {
  "kernelspec": {
   "display_name": "Python 3",
   "language": "python",
   "name": "python3"
  },
  "language_info": {
   "codemirror_mode": {
    "name": "ipython",
    "version": 3
   },
   "file_extension": ".py",
   "mimetype": "text/x-python",
   "name": "python",
   "nbconvert_exporter": "python",
   "pygments_lexer": "ipython3",
   "version": "3.8.3"
  }
 },
 "nbformat": 4,
 "nbformat_minor": 4
}
